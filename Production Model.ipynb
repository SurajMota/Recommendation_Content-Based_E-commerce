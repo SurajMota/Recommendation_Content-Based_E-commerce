{
 "cells": [
  {
   "cell_type": "code",
   "execution_count": 37,
   "metadata": {},
   "outputs": [],
   "source": [
    "#import liabries\n",
    "import numpy as np\n",
    "import pandas as pd\n",
    "import seaborn as sns\n",
    "import matplotlib.pyplot as plt\n",
    "from nltk.stem.porter import PorterStemmer\n",
    "import os\n",
    "import mysql.connector\n",
    "import nltk\n",
    "from nltk.corpus import stopwords\n",
    "from sklearn.feature_extraction.text import TfidfVectorizer\n",
    "from sklearn.metrics.pairwise import sigmoid_kernel,linear_kernel,cosine_similarity \n",
    "import pickle"
   ]
  },
  {
   "cell_type": "code",
   "execution_count": 38,
   "metadata": {},
   "outputs": [
    {
     "data": {
      "text/html": [
       "<div>\n",
       "<style scoped>\n",
       "    .dataframe tbody tr th:only-of-type {\n",
       "        vertical-align: middle;\n",
       "    }\n",
       "\n",
       "    .dataframe tbody tr th {\n",
       "        vertical-align: top;\n",
       "    }\n",
       "\n",
       "    .dataframe thead th {\n",
       "        text-align: right;\n",
       "    }\n",
       "</style>\n",
       "<table border=\"1\" class=\"dataframe\">\n",
       "  <thead>\n",
       "    <tr style=\"text-align: right;\">\n",
       "      <th></th>\n",
       "      <th>item_id</th>\n",
       "      <th>item_name</th>\n",
       "      <th>description</th>\n",
       "    </tr>\n",
       "  </thead>\n",
       "  <tbody>\n",
       "    <tr>\n",
       "      <th>0</th>\n",
       "      <td>6703</td>\n",
       "      <td>Chicken Boneless</td>\n",
       "      <td>Chicken Boneless</td>\n",
       "    </tr>\n",
       "    <tr>\n",
       "      <th>1</th>\n",
       "      <td>6757</td>\n",
       "      <td>Anchovy/ Nethli</td>\n",
       "      <td>Anchovy/ Nethli</td>\n",
       "    </tr>\n",
       "    <tr>\n",
       "      <th>2</th>\n",
       "      <td>6810</td>\n",
       "      <td>Chicken Buffalo Cut Wingettes</td>\n",
       "      <td>Chicken Buffalo Cut Wingettes</td>\n",
       "    </tr>\n",
       "    <tr>\n",
       "      <th>3</th>\n",
       "      <td>15902</td>\n",
       "      <td>Popular Essential White Peas</td>\n",
       "      <td>Popular Essentials is a brand supplying high-q...</td>\n",
       "    </tr>\n",
       "    <tr>\n",
       "      <th>4</th>\n",
       "      <td>13549</td>\n",
       "      <td>Fresh Water Rohu</td>\n",
       "      <td>Fresh Water Rohu</td>\n",
       "    </tr>\n",
       "    <tr>\n",
       "      <th>5</th>\n",
       "      <td>17287</td>\n",
       "      <td>Haldiram Boondi</td>\n",
       "      <td>Khara boondi is a favourite snack to munch on ...</td>\n",
       "    </tr>\n",
       "    <tr>\n",
       "      <th>6</th>\n",
       "      <td>15871</td>\n",
       "      <td>Popular Essential Red Lobia</td>\n",
       "      <td>Popular Essentials is a brand supplying high-q...</td>\n",
       "    </tr>\n",
       "    <tr>\n",
       "      <th>7</th>\n",
       "      <td>15890</td>\n",
       "      <td>Popular Essentials Premium Ground Nut</td>\n",
       "      <td>Popular Essentials is a brand supplying high-q...</td>\n",
       "    </tr>\n",
       "    <tr>\n",
       "      <th>8</th>\n",
       "      <td>15835</td>\n",
       "      <td>Aura White Thill</td>\n",
       "      <td>Aura White Thill</td>\n",
       "    </tr>\n",
       "    <tr>\n",
       "      <th>9</th>\n",
       "      <td>15827</td>\n",
       "      <td>24 Mantra Organic Brown Chana</td>\n",
       "      <td>Buying 24 Mantra from Sresta means you are a v...</td>\n",
       "    </tr>\n",
       "    <tr>\n",
       "      <th>10</th>\n",
       "      <td>13610</td>\n",
       "      <td>Eggs 15 Pcs</td>\n",
       "      <td>Eggs 15 Pcs</td>\n",
       "    </tr>\n",
       "    <tr>\n",
       "      <th>11</th>\n",
       "      <td>15837</td>\n",
       "      <td>Bhagyalakshmi Rajma</td>\n",
       "      <td>Bhagyalakshmi Rajma</td>\n",
       "    </tr>\n",
       "    <tr>\n",
       "      <th>12</th>\n",
       "      <td>17070</td>\n",
       "      <td>Maggi Masala Noodles</td>\n",
       "      <td>To take your favourite Masala taste experience...</td>\n",
       "    </tr>\n",
       "    <tr>\n",
       "      <th>13</th>\n",
       "      <td>16686</td>\n",
       "      <td>Amul Choco Minis Chocolate</td>\n",
       "      <td>Savour the mesmerising combination of creamy m...</td>\n",
       "    </tr>\n",
       "    <tr>\n",
       "      <th>14</th>\n",
       "      <td>84592</td>\n",
       "      <td>Britannia Toastea Premium Bake Rusk</td>\n",
       "      <td>A tea-time delight for all age groups, Elite M...</td>\n",
       "    </tr>\n",
       "  </tbody>\n",
       "</table>\n",
       "</div>"
      ],
      "text/plain": [
       "    item_id                              item_name  \\\n",
       "0      6703                       Chicken Boneless   \n",
       "1      6757                        Anchovy/ Nethli   \n",
       "2      6810          Chicken Buffalo Cut Wingettes   \n",
       "3     15902           Popular Essential White Peas   \n",
       "4     13549                       Fresh Water Rohu   \n",
       "5     17287                        Haldiram Boondi   \n",
       "6     15871            Popular Essential Red Lobia   \n",
       "7     15890  Popular Essentials Premium Ground Nut   \n",
       "8     15835                       Aura White Thill   \n",
       "9     15827          24 Mantra Organic Brown Chana   \n",
       "10    13610                            Eggs 15 Pcs   \n",
       "11    15837                    Bhagyalakshmi Rajma   \n",
       "12    17070                   Maggi Masala Noodles   \n",
       "13    16686             Amul Choco Minis Chocolate   \n",
       "14    84592    Britannia Toastea Premium Bake Rusk   \n",
       "\n",
       "                                          description  \n",
       "0                                    Chicken Boneless  \n",
       "1                                     Anchovy/ Nethli  \n",
       "2                       Chicken Buffalo Cut Wingettes  \n",
       "3   Popular Essentials is a brand supplying high-q...  \n",
       "4                                    Fresh Water Rohu  \n",
       "5   Khara boondi is a favourite snack to munch on ...  \n",
       "6   Popular Essentials is a brand supplying high-q...  \n",
       "7   Popular Essentials is a brand supplying high-q...  \n",
       "8                                    Aura White Thill  \n",
       "9   Buying 24 Mantra from Sresta means you are a v...  \n",
       "10                                        Eggs 15 Pcs  \n",
       "11                                Bhagyalakshmi Rajma  \n",
       "12  To take your favourite Masala taste experience...  \n",
       "13  Savour the mesmerising combination of creamy m...  \n",
       "14  A tea-time delight for all age groups, Elite M...  "
      ]
     },
     "execution_count": 38,
     "metadata": {},
     "output_type": "execute_result"
    }
   ],
   "source": [
    "# Selecting only # features from the data set\n",
    "fields = [ 'item_id','item_name', 'description']\n",
    "new_df = pd.read_csv(\"frqbitems.csv.csv\",\n",
    "                  encoding=\"cp437\",\n",
    "                  index_col=False,\n",
    "                  usecols=fields, \n",
    "                  skipinitialspace=True)\n",
    "new_df.head(15)"
   ]
  },
  {
   "cell_type": "code",
   "execution_count": 39,
   "metadata": {},
   "outputs": [
    {
     "data": {
      "text/plain": [
       "(645, 3)"
      ]
     },
     "execution_count": 39,
     "metadata": {},
     "output_type": "execute_result"
    }
   ],
   "source": [
    "# To check size of the data\n",
    "new_df.shape"
   ]
  },
  {
   "cell_type": "code",
   "execution_count": 40,
   "metadata": {},
   "outputs": [],
   "source": [
    "#new_df.isnull().sum()\n",
    "new_df.dropna(inplace=True)"
   ]
  },
  {
   "cell_type": "code",
   "execution_count": 41,
   "metadata": {},
   "outputs": [
    {
     "data": {
      "text/plain": [
       "'Fresh Water Rohu'"
      ]
     },
     "execution_count": 41,
     "metadata": {},
     "output_type": "execute_result"
    }
   ],
   "source": [
    "# To check what item name is comingin 4th index\n",
    "new_df['description'][4]"
   ]
  },
  {
   "cell_type": "code",
   "execution_count": 42,
   "metadata": {},
   "outputs": [],
   "source": [
    "# Droping dublicate values from data set\n",
    "new_df.drop_duplicates(inplace=True)"
   ]
  },
  {
   "cell_type": "code",
   "execution_count": 43,
   "metadata": {},
   "outputs": [],
   "source": [
    "#new_df.duplicated().sum()"
   ]
  },
  {
   "cell_type": "code",
   "execution_count": 44,
   "metadata": {},
   "outputs": [],
   "source": [
    "# Performing data cleaning as unnecessary values are showing in the description column\n",
    "new_df['description'] = new_df['description'].str.replace(r'/', '')\n",
    "new_df['description'] = new_df['description'].str.replace(r'ΓÇ¥', '')\n",
    "new_df['description'] = new_df['description'].str.replace(r'-', '')\n",
    "new_df['description'] = new_df['description'].str.replace(r'ΓÇ£', '')\n",
    "new_df['description'] = new_df['description'].str.replace(r'crÃ¨', '')\n",
    "new_df['description'] = new_df['description'].str.replace(r'â€™s', '')\n"
   ]
  },
  {
   "cell_type": "code",
   "execution_count": 45,
   "metadata": {},
   "outputs": [
    {
     "data": {
      "text/html": [
       "<div>\n",
       "<style scoped>\n",
       "    .dataframe tbody tr th:only-of-type {\n",
       "        vertical-align: middle;\n",
       "    }\n",
       "\n",
       "    .dataframe tbody tr th {\n",
       "        vertical-align: top;\n",
       "    }\n",
       "\n",
       "    .dataframe thead th {\n",
       "        text-align: right;\n",
       "    }\n",
       "</style>\n",
       "<table border=\"1\" class=\"dataframe\">\n",
       "  <thead>\n",
       "    <tr style=\"text-align: right;\">\n",
       "      <th></th>\n",
       "      <th>item_id</th>\n",
       "      <th>item_name</th>\n",
       "      <th>description</th>\n",
       "    </tr>\n",
       "  </thead>\n",
       "  <tbody>\n",
       "    <tr>\n",
       "      <th>0</th>\n",
       "      <td>6703</td>\n",
       "      <td>Chicken Boneless</td>\n",
       "      <td>Chicken Boneless</td>\n",
       "    </tr>\n",
       "    <tr>\n",
       "      <th>1</th>\n",
       "      <td>6757</td>\n",
       "      <td>Anchovy/ Nethli</td>\n",
       "      <td>Anchovy Nethli</td>\n",
       "    </tr>\n",
       "    <tr>\n",
       "      <th>2</th>\n",
       "      <td>6810</td>\n",
       "      <td>Chicken Buffalo Cut Wingettes</td>\n",
       "      <td>Chicken Buffalo Cut Wingettes</td>\n",
       "    </tr>\n",
       "    <tr>\n",
       "      <th>3</th>\n",
       "      <td>15902</td>\n",
       "      <td>Popular Essential White Peas</td>\n",
       "      <td>Popular Essentials is a brand supplying highqu...</td>\n",
       "    </tr>\n",
       "    <tr>\n",
       "      <th>4</th>\n",
       "      <td>13549</td>\n",
       "      <td>Fresh Water Rohu</td>\n",
       "      <td>Fresh Water Rohu</td>\n",
       "    </tr>\n",
       "    <tr>\n",
       "      <th>5</th>\n",
       "      <td>17287</td>\n",
       "      <td>Haldiram Boondi</td>\n",
       "      <td>Khara boondi is a favourite snack to munch on ...</td>\n",
       "    </tr>\n",
       "    <tr>\n",
       "      <th>6</th>\n",
       "      <td>15871</td>\n",
       "      <td>Popular Essential Red Lobia</td>\n",
       "      <td>Popular Essentials is a brand supplying highqu...</td>\n",
       "    </tr>\n",
       "    <tr>\n",
       "      <th>7</th>\n",
       "      <td>15890</td>\n",
       "      <td>Popular Essentials Premium Ground Nut</td>\n",
       "      <td>Popular Essentials is a brand supplying highqu...</td>\n",
       "    </tr>\n",
       "    <tr>\n",
       "      <th>8</th>\n",
       "      <td>15835</td>\n",
       "      <td>Aura White Thill</td>\n",
       "      <td>Aura White Thill</td>\n",
       "    </tr>\n",
       "    <tr>\n",
       "      <th>9</th>\n",
       "      <td>15827</td>\n",
       "      <td>24 Mantra Organic Brown Chana</td>\n",
       "      <td>Buying 24 Mantra from Sresta means you are a v...</td>\n",
       "    </tr>\n",
       "    <tr>\n",
       "      <th>10</th>\n",
       "      <td>13610</td>\n",
       "      <td>Eggs 15 Pcs</td>\n",
       "      <td>Eggs 15 Pcs</td>\n",
       "    </tr>\n",
       "    <tr>\n",
       "      <th>11</th>\n",
       "      <td>15837</td>\n",
       "      <td>Bhagyalakshmi Rajma</td>\n",
       "      <td>Bhagyalakshmi Rajma</td>\n",
       "    </tr>\n",
       "    <tr>\n",
       "      <th>12</th>\n",
       "      <td>17070</td>\n",
       "      <td>Maggi Masala Noodles</td>\n",
       "      <td>To take your favourite Masala taste experience...</td>\n",
       "    </tr>\n",
       "    <tr>\n",
       "      <th>13</th>\n",
       "      <td>16686</td>\n",
       "      <td>Amul Choco Minis Chocolate</td>\n",
       "      <td>Savour the mesmerising combination of creamy m...</td>\n",
       "    </tr>\n",
       "    <tr>\n",
       "      <th>14</th>\n",
       "      <td>84592</td>\n",
       "      <td>Britannia Toastea Premium Bake Rusk</td>\n",
       "      <td>A teatime delight for all age groups, Elite Mi...</td>\n",
       "    </tr>\n",
       "    <tr>\n",
       "      <th>15</th>\n",
       "      <td>83586</td>\n",
       "      <td>Himalaya Men Pimple Clear Neem Face Wash</td>\n",
       "      <td>It helps your skin stay in good condition, enh...</td>\n",
       "    </tr>\n",
       "    <tr>\n",
       "      <th>16</th>\n",
       "      <td>83613</td>\n",
       "      <td>Veet Men Hair Removal Cream for Normal skin</td>\n",
       "      <td>It helps your skin stay in good condition, enh...</td>\n",
       "    </tr>\n",
       "    <tr>\n",
       "      <th>17</th>\n",
       "      <td>83890</td>\n",
       "      <td>Patanjali Gonyle Floor Cleaner</td>\n",
       "      <td>This dailyuse surfactantfree general purpose p...</td>\n",
       "    </tr>\n",
       "    <tr>\n",
       "      <th>18</th>\n",
       "      <td>84524</td>\n",
       "      <td>Britannia 50 50 Time Pass Simply Salted Biscuits</td>\n",
       "      <td>A mouthful of richness, made with authentic in...</td>\n",
       "    </tr>\n",
       "    <tr>\n",
       "      <th>19</th>\n",
       "      <td>85328</td>\n",
       "      <td>Parle G Glucose Biscuits</td>\n",
       "      <td>A mouthful of richness, made with authentic in...</td>\n",
       "    </tr>\n",
       "    <tr>\n",
       "      <th>20</th>\n",
       "      <td>84921</td>\n",
       "      <td>Id Special Idli Dosa Batter</td>\n",
       "      <td>iD Idli and Dosa Batter will make sure that th...</td>\n",
       "    </tr>\n",
       "    <tr>\n",
       "      <th>21</th>\n",
       "      <td>17546</td>\n",
       "      <td>Chicken Boneless</td>\n",
       "      <td>Chicken Boneless</td>\n",
       "    </tr>\n",
       "    <tr>\n",
       "      <th>22</th>\n",
       "      <td>17549</td>\n",
       "      <td>Chicken Buffalo Cut Wingettes</td>\n",
       "      <td>Chicken Buffalo Cut Wingettes</td>\n",
       "    </tr>\n",
       "    <tr>\n",
       "      <th>24</th>\n",
       "      <td>21417</td>\n",
       "      <td>Britannia Little Hearts Biscuits</td>\n",
       "      <td>A mouthful of richness, made with authentic in...</td>\n",
       "    </tr>\n",
       "    <tr>\n",
       "      <th>26</th>\n",
       "      <td>36249</td>\n",
       "      <td>Maaza Mango Juice Pet Bottle</td>\n",
       "      <td>Juice is a drink made from the extraction or p...</td>\n",
       "    </tr>\n",
       "    <tr>\n",
       "      <th>27</th>\n",
       "      <td>21422</td>\n",
       "      <td>Cadbury Oreo Choco Creame Biscuit</td>\n",
       "      <td>it is an ultimate combination designed to make...</td>\n",
       "    </tr>\n",
       "    <tr>\n",
       "      <th>28</th>\n",
       "      <td>21379</td>\n",
       "      <td>Nandini Standard Milk</td>\n",
       "      <td>Nandini Sampoorna Standardized Milk is fresh h...</td>\n",
       "    </tr>\n",
       "    <tr>\n",
       "      <th>31</th>\n",
       "      <td>6825</td>\n",
       "      <td>Mutton Curry Cuts</td>\n",
       "      <td>Mutton Curry Cuts</td>\n",
       "    </tr>\n",
       "    <tr>\n",
       "      <th>32</th>\n",
       "      <td>42114</td>\n",
       "      <td>Chicken Fresh</td>\n",
       "      <td>Chicken Fresh</td>\n",
       "    </tr>\n",
       "    <tr>\n",
       "      <th>33</th>\n",
       "      <td>6867</td>\n",
       "      <td>Coriander</td>\n",
       "      <td>Coriander</td>\n",
       "    </tr>\n",
       "  </tbody>\n",
       "</table>\n",
       "</div>"
      ],
      "text/plain": [
       "    item_id                                         item_name  \\\n",
       "0      6703                                  Chicken Boneless   \n",
       "1      6757                                   Anchovy/ Nethli   \n",
       "2      6810                     Chicken Buffalo Cut Wingettes   \n",
       "3     15902                      Popular Essential White Peas   \n",
       "4     13549                                  Fresh Water Rohu   \n",
       "5     17287                                   Haldiram Boondi   \n",
       "6     15871                       Popular Essential Red Lobia   \n",
       "7     15890             Popular Essentials Premium Ground Nut   \n",
       "8     15835                                  Aura White Thill   \n",
       "9     15827                     24 Mantra Organic Brown Chana   \n",
       "10    13610                                       Eggs 15 Pcs   \n",
       "11    15837                               Bhagyalakshmi Rajma   \n",
       "12    17070                              Maggi Masala Noodles   \n",
       "13    16686                        Amul Choco Minis Chocolate   \n",
       "14    84592               Britannia Toastea Premium Bake Rusk   \n",
       "15    83586          Himalaya Men Pimple Clear Neem Face Wash   \n",
       "16    83613       Veet Men Hair Removal Cream for Normal skin   \n",
       "17    83890                    Patanjali Gonyle Floor Cleaner   \n",
       "18    84524  Britannia 50 50 Time Pass Simply Salted Biscuits   \n",
       "19    85328                          Parle G Glucose Biscuits   \n",
       "20    84921                       Id Special Idli Dosa Batter   \n",
       "21    17546                                  Chicken Boneless   \n",
       "22    17549                     Chicken Buffalo Cut Wingettes   \n",
       "24    21417                  Britannia Little Hearts Biscuits   \n",
       "26    36249                      Maaza Mango Juice Pet Bottle   \n",
       "27    21422                 Cadbury Oreo Choco Creame Biscuit   \n",
       "28    21379                             Nandini Standard Milk   \n",
       "31     6825                                 Mutton Curry Cuts   \n",
       "32    42114                                     Chicken Fresh   \n",
       "33     6867                                         Coriander   \n",
       "\n",
       "                                          description  \n",
       "0                                    Chicken Boneless  \n",
       "1                                      Anchovy Nethli  \n",
       "2                       Chicken Buffalo Cut Wingettes  \n",
       "3   Popular Essentials is a brand supplying highqu...  \n",
       "4                                    Fresh Water Rohu  \n",
       "5   Khara boondi is a favourite snack to munch on ...  \n",
       "6   Popular Essentials is a brand supplying highqu...  \n",
       "7   Popular Essentials is a brand supplying highqu...  \n",
       "8                                    Aura White Thill  \n",
       "9   Buying 24 Mantra from Sresta means you are a v...  \n",
       "10                                        Eggs 15 Pcs  \n",
       "11                                Bhagyalakshmi Rajma  \n",
       "12  To take your favourite Masala taste experience...  \n",
       "13  Savour the mesmerising combination of creamy m...  \n",
       "14  A teatime delight for all age groups, Elite Mi...  \n",
       "15  It helps your skin stay in good condition, enh...  \n",
       "16  It helps your skin stay in good condition, enh...  \n",
       "17  This dailyuse surfactantfree general purpose p...  \n",
       "18  A mouthful of richness, made with authentic in...  \n",
       "19  A mouthful of richness, made with authentic in...  \n",
       "20  iD Idli and Dosa Batter will make sure that th...  \n",
       "21                                   Chicken Boneless  \n",
       "22                      Chicken Buffalo Cut Wingettes  \n",
       "24  A mouthful of richness, made with authentic in...  \n",
       "26  Juice is a drink made from the extraction or p...  \n",
       "27  it is an ultimate combination designed to make...  \n",
       "28  Nandini Sampoorna Standardized Milk is fresh h...  \n",
       "31                                  Mutton Curry Cuts  \n",
       "32                                      Chicken Fresh  \n",
       "33                                          Coriander  "
      ]
     },
     "execution_count": 45,
     "metadata": {},
     "output_type": "execute_result"
    }
   ],
   "source": [
    "# we achieved Cleaned data set after performing pre-processing\n",
    "new_df.head(30)"
   ]
  },
  {
   "cell_type": "code",
   "execution_count": 46,
   "metadata": {},
   "outputs": [
    {
     "data": {
      "text/plain": [
       "'Khara boondi is a favourite snack to munch on at almost any moment. Enjoy the amazing taste of tangy and spicy Khara Boondi Namkeen. Eat it as a side dish with your meals or just eat it on its own.'"
      ]
     },
     "execution_count": 46,
     "metadata": {},
     "output_type": "execute_result"
    }
   ],
   "source": [
    "# To check is it picking 5th index description of the item \n",
    "new_df['description'][5]"
   ]
  },
  {
   "cell_type": "code",
   "execution_count": 76,
   "metadata": {},
   "outputs": [],
   "source": [
    "from nltk.stem.porter import PorterStemmer\n",
    "ps = PorterStemmer()\n",
    "\n",
    "def stem(text):\n",
    "    y = []\n",
    "    \n",
    "    for i in text.split():\n",
    "        y.append(ps.stem(i))\n",
    "        \n",
    "        \n",
    "    return \" \".join(y)\n",
    "\n",
    "new_df['description'] = new_df['description'].apply(stem)"
   ]
  },
  {
   "cell_type": "code",
   "execution_count": 77,
   "metadata": {},
   "outputs": [],
   "source": [
    "#we use TF-IDF vectorizerthat calculates the TF-IDF score for each description, word-by-word.\n",
    "from sklearn.feature_extraction.text import TfidfVectorizer\n",
    "\n",
    "#Define a TF-IDF Vectorizer Object. Remove all english stop words such as 'the', 'a'\n",
    "tfv = TfidfVectorizer(max_features=None,\n",
    "                      strip_accents='unicode',\n",
    "                      analyzer='word',\n",
    "                      ngram_range=(1,4),\n",
    "                      stop_words='english',\n",
    "                      encoding=\"cp437\",\n",
    "                      lowercase=True,\n",
    "                      use_idf=True,\n",
    "                      min_df=0.003, # ignore words which comes in less than 3% of documents(0.003)\n",
    "                      max_df=0.50) #exclude words which occurs in 50% of documents(0.5)\n"
   ]
  },
  {
   "cell_type": "code",
   "execution_count": 78,
   "metadata": {},
   "outputs": [
    {
     "data": {
      "text/plain": [
       "array([[0., 0., 0., ..., 0., 0., 0.],\n",
       "       [0., 0., 0., ..., 0., 0., 0.],\n",
       "       [0., 0., 0., ..., 0., 0., 0.],\n",
       "       ...,\n",
       "       [0., 0., 0., ..., 0., 0., 0.],\n",
       "       [0., 0., 0., ..., 0., 0., 0.],\n",
       "       [0., 0., 0., ..., 0., 0., 0.]])"
      ]
     },
     "execution_count": 78,
     "metadata": {},
     "output_type": "execute_result"
    }
   ],
   "source": [
    "vectors = tfv.fit_transform(new_df['description']).toarray()\n",
    "vectors"
   ]
  },
  {
   "cell_type": "code",
   "execution_count": 79,
   "metadata": {},
   "outputs": [],
   "source": [
    "#vectors[0]"
   ]
  },
  {
   "cell_type": "code",
   "execution_count": 80,
   "metadata": {},
   "outputs": [
    {
     "data": {
      "text/plain": [
       "(447, 447)"
      ]
     },
     "execution_count": 80,
     "metadata": {},
     "output_type": "execute_result"
    }
   ],
   "source": [
    "from sklearn.metrics.pairwise import sigmoid_kernel,linear_kernel,cosine_similarity\n",
    "\n",
    "similarity = cosine_similarity(vectors)\n",
    "similarity.shape"
   ]
  },
  {
   "cell_type": "code",
   "execution_count": 81,
   "metadata": {},
   "outputs": [
    {
     "data": {
      "text/plain": [
       "[(138, 1.0),\n",
       " (347, 1.0),\n",
       " (281, 0.3226417583699119),\n",
       " (28, 0.21147984892826413),\n",
       " (241, 0.09681669018686968)]"
      ]
     },
     "execution_count": 81,
     "metadata": {},
     "output_type": "execute_result"
    }
   ],
   "source": [
    "# Providing recommendation of 5 elements in terms of decreasing values\n",
    "sorted(list(enumerate(similarity[4])),reverse=True,key=lambda x:x[1])[1:6]"
   ]
  },
  {
   "cell_type": "code",
   "execution_count": 82,
   "metadata": {},
   "outputs": [],
   "source": [
    "# Creating function which will take item name and return item_ids in form of recommendation\n",
    "def recommend(item_name):\n",
    "    item_index = new_df[new_df['item_name'] == item_name].index[0]\n",
    "    distances = similarity[item_index]\n",
    "    item_list = sorted(list(enumerate(distances)),reverse=True,key=lambda x:x[1])[1:6]\n",
    "    \n",
    "    for i in item_list:\n",
    "        print(new_df.iloc[i[0]].item_id)   "
   ]
  },
  {
   "cell_type": "code",
   "execution_count": 83,
   "metadata": {},
   "outputs": [
    {
     "name": "stdout",
     "output_type": "stream",
     "text": [
      "17546\n",
      "74787\n",
      "6720\n",
      "6714\n",
      "13525\n"
     ]
    }
   ],
   "source": [
    "# for Chicken Boneless it has recommended these items which having these item_id's\n",
    "recommend('Chicken Boneless')"
   ]
  },
  {
   "cell_type": "code",
   "execution_count": null,
   "metadata": {},
   "outputs": [],
   "source": []
  }
 ],
 "metadata": {
  "kernelspec": {
   "display_name": "Python 3",
   "language": "python",
   "name": "python3"
  },
  "language_info": {
   "codemirror_mode": {
    "name": "ipython",
    "version": 3
   },
   "file_extension": ".py",
   "mimetype": "text/x-python",
   "name": "python",
   "nbconvert_exporter": "python",
   "pygments_lexer": "ipython3",
   "version": "3.7.6"
  }
 },
 "nbformat": 4,
 "nbformat_minor": 4
}
